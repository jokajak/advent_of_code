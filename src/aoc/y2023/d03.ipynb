{
 "cells": [
  {
   "cell_type": "markdown",
   "metadata": {},
   "source": [
    "# Advent of code - 2023 - Day 3\n",
    "\n",
    "The engineer explains that an engine part seems to be missing from the engine, but nobody can figure out which one. If you can add up all the part numbers in the engine schematic, it should be easy to work out which part is missing.\n",
    "\n",
    "The engine schematic (your puzzle input) consists of a visual representation of the engine. There are lots of numbers and symbols you don't really understand, but apparently any number adjacent to a symbol, even diagonally, is a \"part number\" and should be included in your sum. (Periods (.) do not count as a symbol.)\n",
    "\n",
    "Here is an example engine schematic:\n",
    "\n",
    "```\n",
    "467..114..\n",
    "...*......\n",
    "..35..633.\n",
    "......#...\n",
    "617*......\n",
    ".....+.58.\n",
    "..592.....\n",
    "......755.\n",
    "...$.*....\n",
    ".664.598..\n",
    "```"
   ]
  },
  {
   "cell_type": "markdown",
   "metadata": {},
   "source": [
    "## Approach\n",
    "\n",
    "My first thought was to parse through to find all of the numbers. After writing it down on paper I realized I could find the symbols first and find the numbers around each symbol.\n",
    "\n",
    "I need to be careful to only add a number once, in case multiple a number is touching multiple symbols.\n",
    "\n",
    "I also realized that when I am searching for numbers around a symbol I need to look left and right to find the full number after looking up or down.\n",
    "\n",
    "So I came up with the following approach:\n",
    "\n",
    "1. Search left to right, top to bottom to find symbols: main loop\n",
    "2. For each symbol found, find the numbers around the symbol: find_numbers_around_symbol\n",
    "3. To find the numbers around the symbol, search in the deltas around the symbol. If the entry is a digit, the find the start coordinate and the full number.\n",
    "4. Store the start coordinate and the number in the table of valid numbers\n",
    "5. Return the sum of all the valid numbers"
   ]
  },
  {
   "cell_type": "code",
   "execution_count": null,
   "metadata": {},
   "outputs": [],
   "source": [
    "#!/usr/bin/env python\n",
    "\"\"\"Solutions for AoC 2, 2023.\"\"\"\n",
    "# Created: 2023-12-02 08:29:51.109945\n",
    "\n",
    "# Standard library imports\n",
    "from aocd.models import Puzzle, default_user\n",
    "from rich import print\n",
    "from collections import defaultdict\n",
    "\n",
    "\n",
    "def parse(input_data):\n",
    "    parsed_data = defaultdict(int)\n",
    "    for row in input_data.split_lines():\n",
    "        for column in range(len(row)):\n",
    "            parsed_data[(row, column)] = row[column]\n",
    "    print(parsed_data)\n",
    "    return parsed_data\n",
    "  \n",
    "\n",
    "def solve_part_one(input_data):\n",
    "    answer = None\n",
    "    return answer\n",
    "\n",
    "\n",
    "def solve_part_two(input_data):\n",
    "    answer = None\n",
    "    return answer\n",
    "\n",
    "\n",
    "def main():\n",
    "    puzzle = Puzzle(year=2023, day=3)\n",
    "    parsed_data = parse(puzzle.input_data)\n",
    "    u = default_user()\n",
    "    stats = u.get_stats(2023).get((2023, 2), {})\n",
    "    if stats.get(\"a\", None) is None:\n",
    "        answer_a = solve_part_one(parsed_data)\n",
    "        if answer_a:\n",
    "            puzzle.answer_a = answer_a\n",
    "    if stats.get(\"b\", None) is None:\n",
    "        parsed_data = parse(puzzle.input_data)\n",
    "        answer_b = solve_part_two(parsed_data)\n",
    "        if answer_b:\n",
    "            puzzle.answer_b = answer_b\n",
    "\n",
    "\n",
    "if __name__ == \"__main__\":\n",
    "    main()\n"
   ]
  },
  {
   "cell_type": "markdown",
   "metadata": {},
   "source": []
  }
 ],
 "metadata": {
  "language_info": {
   "name": "python"
  }
 },
 "nbformat": 4,
 "nbformat_minor": 2
}
